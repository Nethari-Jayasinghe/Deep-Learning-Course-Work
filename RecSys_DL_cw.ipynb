{
 "cells": [
  {
   "cell_type": "code",
   "execution_count": 1,
   "metadata": {},
   "outputs": [],
   "source": [
    "import json\n",
    "from collections import Counter\n",
    "from datetime import datetime\n",
    "import pandas as pd\n",
    "import numpy as np\n",
    "#import seaborn as sns\n",
    "import matplotlib.pyplot as plt"
   ]
  },
  {
   "cell_type": "code",
   "execution_count": 2,
   "metadata": {},
   "outputs": [
    {
     "name": "stdout",
     "output_type": "stream",
     "text": [
      "                review_id                 user_id             business_id  \\\n",
      "0  KU_O5udG6zpxOg-VcAEodg  mh_-eMZ6K5RLWhZyISBhwA  XQfwVwDr-v0ZS3_CbbE5Xw   \n",
      "1  BiTunyQ73aT9WBnpR9DZGw  OyoGAe7OKpv6SyGZT5g77Q  7ATYjTIgM3jUlt4UM3IypQ   \n",
      "2  saUsX_uimxRlCVr67Z4Jig  8g_iMtfSiwikVnbP2etR0A  YjUWPpI6HXG530lwP-fb2A   \n",
      "3  AqPFMleE6RsU23_auESxiA  _7bHUi9Uuf5__HHc_Q8guQ  kxX2SOes4o-D3ZQBkiMRfA   \n",
      "4  Sx8TMOWLNuJBWer-0pcmoA  bcjbaE6dDog4jkNY91ncLQ  e4Vwtrqf-wpJfwesgvdgxQ   \n",
      "\n",
      "   stars  useful  funny  cool  \\\n",
      "0      3       0      0     0   \n",
      "1      5       1      0     1   \n",
      "2      3       0      0     0   \n",
      "3      5       1      0     1   \n",
      "4      4       1      0     1   \n",
      "\n",
      "                                                text                date  \n",
      "0  If you decide to eat here, just be aware it is... 2018-07-07 22:09:11  \n",
      "1  I've taken a lot of spin classes over the year... 2012-01-03 15:28:18  \n",
      "2  Family diner. Had the buffet. Eclectic assortm... 2014-02-05 20:30:30  \n",
      "3  Wow!  Yummy, different,  delicious.   Our favo... 2015-01-04 00:01:03  \n",
      "4  Cute interior and owner (?) gave us tour of up... 2017-01-14 20:54:15  \n"
     ]
    }
   ],
   "source": [
    "try:\n",
    "    review = pd.read_json(\"E:/nethari/Downloads/YEAR 3/Deep Learning/dataset files/yelp_academic_dataset_review.json\", chunksize=20000, lines=True)\n",
    "    review_chunk = next(review)\n",
    "    print(review_chunk.head())\n",
    "except FileNotFoundError:\n",
    "    print(\"File not found. Please check the file path.\")\n",
    "except Exception as e:\n",
    "    print(f\"An error occurred: {e}\")"
   ]
  },
  {
   "cell_type": "code",
   "execution_count": 3,
   "metadata": {},
   "outputs": [
    {
     "name": "stdout",
     "output_type": "stream",
     "text": [
      "                  user_id             business_id  stars\n",
      "0  mh_-eMZ6K5RLWhZyISBhwA  XQfwVwDr-v0ZS3_CbbE5Xw      3\n",
      "1  OyoGAe7OKpv6SyGZT5g77Q  7ATYjTIgM3jUlt4UM3IypQ      5\n",
      "2  8g_iMtfSiwikVnbP2etR0A  YjUWPpI6HXG530lwP-fb2A      3\n",
      "3  _7bHUi9Uuf5__HHc_Q8guQ  kxX2SOes4o-D3ZQBkiMRfA      5\n",
      "4  bcjbaE6dDog4jkNY91ncLQ  e4Vwtrqf-wpJfwesgvdgxQ      4\n"
     ]
    }
   ],
   "source": [
    "# Assuming review_chunk is already a DataFrame\n",
    "review_chunk = review_chunk.drop(['review_id', 'useful', 'funny', 'cool', 'text', 'date'], axis=1)\n",
    "print(review_chunk.head())"
   ]
  },
  {
   "cell_type": "code",
   "execution_count": 4,
   "metadata": {},
   "outputs": [
    {
     "name": "stdout",
     "output_type": "stream",
     "text": [
      "Duplicate Rows except first occurrence:\n",
      "                      user_id             business_id  stars\n",
      "6184   A_TznMSVvVb6tbiGSvRQ_Q  G-zzByEfv2oqjcxYmPsjtA      5\n",
      "6834   s9ZHbQAJs8brdlRcU36znw  9TJzfMc4gEKSUxfnGcj6dw      5\n",
      "9839   LEyRdfEh33INkU_qK3-FAQ  xJyp6RLqNRv3tSu6njPKxQ      3\n",
      "10392  pg0GI_LBpsX06a8eN7Ff5A  0qu0fNTOsSmuREYVIMPuIQ      4\n",
      "11464  OxOEyH0OxKH4e3E6xqy9-Q  VgGITb54IIb1G0gSVt3gkw      4\n",
      "12546  n3Gg5mIokBirc8s_unINnQ  y--UQiSyVPAmWjRkZ9tdPQ      4\n",
      "12776  J8QE0UJ7yhHB9m_SomQAgA  TRtcUUdBfO9e7wBoJLH9NA      5\n",
      "13674  FSb3LhuLAQVYK7Tj82Jzog  XdcWCEhxUtBcSyn-DiidPw      1\n",
      "13745  mYCvAkZ1-67z9PAGdlINng  54NQk8KBYd8lMD3bLVbrAQ      1\n",
      "14694  y4EOqN--vgyMGm5Byj_HIQ  5NSA0-aOjOVQWJYIr8hA-Q      5\n",
      "15091  2anfbsmeoqeMYCiNwUow9Q  PY9GRfzr4nTZeINf346QOw      5\n",
      "15213  _BcWyKQL16ndpBdggh2kNA  h1qdksqlwGpmp_Id8j5CXQ      4\n",
      "15493  zcYZgNeJHpKCSBRwh6WskQ  lEOxwatxwXaCi8lPUTFKRQ      5\n",
      "15704  0YyF7OrD2VEUVUiYmKZ8MA  NnlQhXtuVOVjUFYB1Hqp8Q      5\n",
      "16647  Jt3GylPuH64uA3zTdbMdCg  nl_La1sCrZG0xq0HNt4WsQ      5\n",
      "18113  WvVuX_7Ut_AV1hAZ5O-yFA  V8H6z5ulGJEkaFUyRfmLKw      2\n",
      "19523  KWLxxZKAcdUOBqBLMPW22w  -y5vYOsyL4bSFxeOtQtYbg      4\n",
      "19616  xA1eoU2N9Z8XbkX81sPA2A  cRJIf2i9LX8X8DKDG2qjiQ      1\n",
      "19840  SopKLh2Oho1ddTWhO5m3Cg  cXsrd3SqPh778u2yaiAslA      2\n"
     ]
    }
   ],
   "source": [
    "# Identifying and removing duplicate rows\n",
    "duplicate_rows = review_chunk[review_chunk.duplicated()]\n",
    "print(\"Duplicate Rows except first occurrence:\")\n",
    "print(duplicate_rows)\n",
    "review_chunk = review_chunk.drop_duplicates()"
   ]
  },
  {
   "cell_type": "code",
   "execution_count": 5,
   "metadata": {},
   "outputs": [
    {
     "name": "stdout",
     "output_type": "stream",
     "text": [
      "<class 'pandas.core.frame.DataFrame'>\n",
      "Index: 19981 entries, 0 to 19999\n",
      "Data columns (total 3 columns):\n",
      " #   Column       Non-Null Count  Dtype \n",
      "---  ------       --------------  ----- \n",
      " 0   user_id      19981 non-null  object\n",
      " 1   business_id  19981 non-null  object\n",
      " 2   stars        19981 non-null  int64 \n",
      "dtypes: int64(1), object(2)\n",
      "memory usage: 624.4+ KB\n"
     ]
    }
   ],
   "source": [
    "# Displaying DataFrame information\n",
    "review_chunk.info()"
   ]
  },
  {
   "cell_type": "code",
   "execution_count": 6,
   "metadata": {},
   "outputs": [
    {
     "name": "stdout",
     "output_type": "stream",
     "text": [
      "              business_id                      name  \\\n",
      "0  Pns2l4eNsfO8kk83dixA6A  Abby Rappoport, LAC, CMQ   \n",
      "1  mpf3x-BjTdTEA3yCZrAYPw             The UPS Store   \n",
      "2  tUFrWirKiKi_TAnsVWINQQ                    Target   \n",
      "3  MTSW4McQd7CbVtyjqoe9mw        St Honore Pastries   \n",
      "4  mWMc6_wTdE0EUBKIGXDVfA  Perkiomen Valley Brewery   \n",
      "\n",
      "                           address           city state postal_code  \\\n",
      "0           1616 Chapala St, Ste 2  Santa Barbara    CA       93101   \n",
      "1  87 Grasso Plaza Shopping Center         Affton    MO       63123   \n",
      "2             5255 E Broadway Blvd         Tucson    AZ       85711   \n",
      "3                      935 Race St   Philadelphia    PA       19107   \n",
      "4                    101 Walnut St     Green Lane    PA       18054   \n",
      "\n",
      "    latitude   longitude  stars  review_count  is_open  \\\n",
      "0  34.426679 -119.711197    5.0             7        0   \n",
      "1  38.551126  -90.335695    3.0            15        1   \n",
      "2  32.223236 -110.880452    3.5            22        0   \n",
      "3  39.955505  -75.155564    4.0            80        1   \n",
      "4  40.338183  -75.471659    4.5            13        1   \n",
      "\n",
      "                                          attributes  \\\n",
      "0                      {'ByAppointmentOnly': 'True'}   \n",
      "1             {'BusinessAcceptsCreditCards': 'True'}   \n",
      "2  {'BikeParking': 'True', 'BusinessAcceptsCredit...   \n",
      "3  {'RestaurantsDelivery': 'False', 'OutdoorSeati...   \n",
      "4  {'BusinessAcceptsCreditCards': 'True', 'Wheelc...   \n",
      "\n",
      "                                          categories  \\\n",
      "0  Doctors, Traditional Chinese Medicine, Naturop...   \n",
      "1  Shipping Centers, Local Services, Notaries, Ma...   \n",
      "2  Department Stores, Shopping, Fashion, Home & G...   \n",
      "3  Restaurants, Food, Bubble Tea, Coffee & Tea, B...   \n",
      "4                          Brewpubs, Breweries, Food   \n",
      "\n",
      "                                               hours  \n",
      "0                                               None  \n",
      "1  {'Monday': '0:0-0:0', 'Tuesday': '8:0-18:30', ...  \n",
      "2  {'Monday': '8:0-22:0', 'Tuesday': '8:0-22:0', ...  \n",
      "3  {'Monday': '7:0-20:0', 'Tuesday': '7:0-20:0', ...  \n",
      "4  {'Wednesday': '14:0-22:0', 'Thursday': '16:0-2...  \n"
     ]
    }
   ],
   "source": [
    "# Reading the JSON file in chunks\n",
    "business = pd.read_json(\"E:/nethari/Downloads/YEAR 3/Deep Learning/dataset files/yelp_academic_dataset_business.json\", chunksize=10000, lines=True)\n",
    "business_chunk = next(business)\n",
    "print(business_chunk.head())"
   ]
  },
  {
   "cell_type": "code",
   "execution_count": 7,
   "metadata": {},
   "outputs": [
    {
     "name": "stdout",
     "output_type": "stream",
     "text": [
      "              business_id                      name  stars  review_count\n",
      "0  Pns2l4eNsfO8kk83dixA6A  Abby Rappoport, LAC, CMQ    5.0             7\n",
      "1  mpf3x-BjTdTEA3yCZrAYPw             The UPS Store    3.0            15\n",
      "2  tUFrWirKiKi_TAnsVWINQQ                    Target    3.5            22\n",
      "3  MTSW4McQd7CbVtyjqoe9mw        St Honore Pastries    4.0            80\n",
      "4  mWMc6_wTdE0EUBKIGXDVfA  Perkiomen Valley Brewery    4.5            13\n"
     ]
    }
   ],
   "source": [
    "# Assuming you want to keep the business's ID, name, stars rating, and number of reviews\n",
    "# Dropping other unnecessary columns\n",
    "business_chunk=business_chunk.drop(['address','city','state','postal_code','longitude','latitude','is_open','attributes','categories','hours'], axis=1)\n",
    "print(business_chunk.head())"
   ]
  },
  {
   "cell_type": "code",
   "execution_count": 8,
   "metadata": {},
   "outputs": [
    {
     "data": {
      "text/plain": [
       "'--4AjktZiHowEIBCMd4CZA'"
      ]
     },
     "execution_count": 8,
     "metadata": {},
     "output_type": "execute_result"
    }
   ],
   "source": [
    "min_user_id = review_chunk['user_id'].min()\n",
    "min_user_id"
   ]
  },
  {
   "cell_type": "code",
   "execution_count": 9,
   "metadata": {},
   "outputs": [],
   "source": [
    "# Create a mapping between string IDs and numerical IDs\n",
    "user_id_unique = review_chunk['user_id'].unique()\n",
    "user_id_mapping = {user_id: idx for idx, user_id in enumerate(user_id_unique)}\n",
    "\n",
    "# Add a new column with numerical user IDs\n",
    "review_chunk['user_id_new'] = review_chunk['user_id'].map(user_id_mapping)\n",
    "\n",
    "# Create a mapping between string IDs and numerical IDs\n",
    "busi_id_unique = review_chunk['business_id'].unique()\n",
    "busi_id_mapping = {busi_id: idx for idx, busi_id in enumerate(busi_id_unique)}\n",
    "# Add a new column with numerical user IDs\n",
    "review_chunk['busi_id_new'] = review_chunk['business_id'].map(busi_id_mapping)"
   ]
  },
  {
   "cell_type": "code",
   "execution_count": 10,
   "metadata": {},
   "outputs": [
    {
     "data": {
      "text/html": [
       "<div>\n",
       "<style scoped>\n",
       "    .dataframe tbody tr th:only-of-type {\n",
       "        vertical-align: middle;\n",
       "    }\n",
       "\n",
       "    .dataframe tbody tr th {\n",
       "        vertical-align: top;\n",
       "    }\n",
       "\n",
       "    .dataframe thead th {\n",
       "        text-align: right;\n",
       "    }\n",
       "</style>\n",
       "<table border=\"1\" class=\"dataframe\">\n",
       "  <thead>\n",
       "    <tr style=\"text-align: right;\">\n",
       "      <th></th>\n",
       "      <th>user_id</th>\n",
       "      <th>business_id</th>\n",
       "      <th>stars</th>\n",
       "      <th>user_id_new</th>\n",
       "      <th>busi_id_new</th>\n",
       "    </tr>\n",
       "  </thead>\n",
       "  <tbody>\n",
       "    <tr>\n",
       "      <th>0</th>\n",
       "      <td>mh_-eMZ6K5RLWhZyISBhwA</td>\n",
       "      <td>XQfwVwDr-v0ZS3_CbbE5Xw</td>\n",
       "      <td>3</td>\n",
       "      <td>0</td>\n",
       "      <td>0</td>\n",
       "    </tr>\n",
       "    <tr>\n",
       "      <th>1</th>\n",
       "      <td>OyoGAe7OKpv6SyGZT5g77Q</td>\n",
       "      <td>7ATYjTIgM3jUlt4UM3IypQ</td>\n",
       "      <td>5</td>\n",
       "      <td>1</td>\n",
       "      <td>1</td>\n",
       "    </tr>\n",
       "    <tr>\n",
       "      <th>2</th>\n",
       "      <td>8g_iMtfSiwikVnbP2etR0A</td>\n",
       "      <td>YjUWPpI6HXG530lwP-fb2A</td>\n",
       "      <td>3</td>\n",
       "      <td>2</td>\n",
       "      <td>2</td>\n",
       "    </tr>\n",
       "    <tr>\n",
       "      <th>3</th>\n",
       "      <td>_7bHUi9Uuf5__HHc_Q8guQ</td>\n",
       "      <td>kxX2SOes4o-D3ZQBkiMRfA</td>\n",
       "      <td>5</td>\n",
       "      <td>3</td>\n",
       "      <td>3</td>\n",
       "    </tr>\n",
       "    <tr>\n",
       "      <th>4</th>\n",
       "      <td>bcjbaE6dDog4jkNY91ncLQ</td>\n",
       "      <td>e4Vwtrqf-wpJfwesgvdgxQ</td>\n",
       "      <td>4</td>\n",
       "      <td>4</td>\n",
       "      <td>4</td>\n",
       "    </tr>\n",
       "  </tbody>\n",
       "</table>\n",
       "</div>"
      ],
      "text/plain": [
       "                  user_id             business_id  stars  user_id_new  \\\n",
       "0  mh_-eMZ6K5RLWhZyISBhwA  XQfwVwDr-v0ZS3_CbbE5Xw      3            0   \n",
       "1  OyoGAe7OKpv6SyGZT5g77Q  7ATYjTIgM3jUlt4UM3IypQ      5            1   \n",
       "2  8g_iMtfSiwikVnbP2etR0A  YjUWPpI6HXG530lwP-fb2A      3            2   \n",
       "3  _7bHUi9Uuf5__HHc_Q8guQ  kxX2SOes4o-D3ZQBkiMRfA      5            3   \n",
       "4  bcjbaE6dDog4jkNY91ncLQ  e4Vwtrqf-wpJfwesgvdgxQ      4            4   \n",
       "\n",
       "   busi_id_new  \n",
       "0            0  \n",
       "1            1  \n",
       "2            2  \n",
       "3            3  \n",
       "4            4  "
      ]
     },
     "execution_count": 10,
     "metadata": {},
     "output_type": "execute_result"
    }
   ],
   "source": [
    "#remove default indexes\n",
    "review_chunk = review_chunk.reset_index(drop=True)\n",
    "review_chunk.head()"
   ]
  },
  {
   "cell_type": "code",
   "execution_count": 11,
   "metadata": {},
   "outputs": [
    {
     "data": {
      "text/html": [
       "<div>\n",
       "<style scoped>\n",
       "    .dataframe tbody tr th:only-of-type {\n",
       "        vertical-align: middle;\n",
       "    }\n",
       "\n",
       "    .dataframe tbody tr th {\n",
       "        vertical-align: top;\n",
       "    }\n",
       "\n",
       "    .dataframe thead th {\n",
       "        text-align: right;\n",
       "    }\n",
       "</style>\n",
       "<table border=\"1\" class=\"dataframe\">\n",
       "  <thead>\n",
       "    <tr style=\"text-align: right;\">\n",
       "      <th></th>\n",
       "      <th>stars</th>\n",
       "      <th>user_id_new</th>\n",
       "      <th>busi_id_new</th>\n",
       "    </tr>\n",
       "  </thead>\n",
       "  <tbody>\n",
       "    <tr>\n",
       "      <th>0</th>\n",
       "      <td>3</td>\n",
       "      <td>0</td>\n",
       "      <td>0</td>\n",
       "    </tr>\n",
       "    <tr>\n",
       "      <th>1</th>\n",
       "      <td>5</td>\n",
       "      <td>1</td>\n",
       "      <td>1</td>\n",
       "    </tr>\n",
       "    <tr>\n",
       "      <th>2</th>\n",
       "      <td>3</td>\n",
       "      <td>2</td>\n",
       "      <td>2</td>\n",
       "    </tr>\n",
       "    <tr>\n",
       "      <th>3</th>\n",
       "      <td>5</td>\n",
       "      <td>3</td>\n",
       "      <td>3</td>\n",
       "    </tr>\n",
       "    <tr>\n",
       "      <th>4</th>\n",
       "      <td>4</td>\n",
       "      <td>4</td>\n",
       "      <td>4</td>\n",
       "    </tr>\n",
       "    <tr>\n",
       "      <th>...</th>\n",
       "      <td>...</td>\n",
       "      <td>...</td>\n",
       "      <td>...</td>\n",
       "    </tr>\n",
       "    <tr>\n",
       "      <th>19976</th>\n",
       "      <td>1</td>\n",
       "      <td>18242</td>\n",
       "      <td>3348</td>\n",
       "    </tr>\n",
       "    <tr>\n",
       "      <th>19977</th>\n",
       "      <td>4</td>\n",
       "      <td>18243</td>\n",
       "      <td>5548</td>\n",
       "    </tr>\n",
       "    <tr>\n",
       "      <th>19978</th>\n",
       "      <td>2</td>\n",
       "      <td>18244</td>\n",
       "      <td>61</td>\n",
       "    </tr>\n",
       "    <tr>\n",
       "      <th>19979</th>\n",
       "      <td>2</td>\n",
       "      <td>6786</td>\n",
       "      <td>5549</td>\n",
       "    </tr>\n",
       "    <tr>\n",
       "      <th>19980</th>\n",
       "      <td>5</td>\n",
       "      <td>18245</td>\n",
       "      <td>1822</td>\n",
       "    </tr>\n",
       "  </tbody>\n",
       "</table>\n",
       "<p>19981 rows × 3 columns</p>\n",
       "</div>"
      ],
      "text/plain": [
       "       stars  user_id_new  busi_id_new\n",
       "0          3            0            0\n",
       "1          5            1            1\n",
       "2          3            2            2\n",
       "3          5            3            3\n",
       "4          4            4            4\n",
       "...      ...          ...          ...\n",
       "19976      1        18242         3348\n",
       "19977      4        18243         5548\n",
       "19978      2        18244           61\n",
       "19979      2         6786         5549\n",
       "19980      5        18245         1822\n",
       "\n",
       "[19981 rows x 3 columns]"
      ]
     },
     "execution_count": 11,
     "metadata": {},
     "output_type": "execute_result"
    }
   ],
   "source": [
    "data_df=review_chunk.drop(['user_id','business_id'], axis=1)\n",
    "data_df"
   ]
  },
  {
   "cell_type": "code",
   "execution_count": 12,
   "metadata": {},
   "outputs": [],
   "source": [
    "min_user_id = data_df['user_id_new'].min()\n",
    "max_user_id = data_df['user_id_new'].max()\n",
    "min_busi_id = data_df['busi_id_new'].min()\n",
    "max_busi_id = data_df['busi_id_new'].max()"
   ]
  },
  {
   "cell_type": "code",
   "execution_count": 13,
   "metadata": {},
   "outputs": [
    {
     "name": "stdout",
     "output_type": "stream",
     "text": [
      "min_user_id: 0\n",
      "max_user_id: 18245\n",
      "min_busi_id: 0\n",
      "max_busi_id: 5549\n"
     ]
    }
   ],
   "source": [
    "print('min_user_id:', min_user_id)\n",
    "print('max_user_id:', max_user_id)\n",
    "print('min_busi_id:', min_busi_id)\n",
    "print('max_busi_id:', max_busi_id)"
   ]
  },
  {
   "cell_type": "code",
   "execution_count": 14,
   "metadata": {},
   "outputs": [
    {
     "data": {
      "text/plain": [
       "count    19981.000000\n",
       "mean         3.852510\n",
       "std          1.349013\n",
       "min          1.000000\n",
       "25%          3.000000\n",
       "50%          4.000000\n",
       "75%          5.000000\n",
       "max          5.000000\n",
       "Name: stars, dtype: float64"
      ]
     },
     "execution_count": 14,
     "metadata": {},
     "output_type": "execute_result"
    }
   ],
   "source": [
    "data_df['stars'].describe()"
   ]
  },
  {
   "cell_type": "code",
   "execution_count": 15,
   "metadata": {},
   "outputs": [
    {
     "name": "stdout",
     "output_type": "stream",
     "text": [
      "testing data: \n"
     ]
    },
    {
     "data": {
      "text/html": [
       "<div>\n",
       "<style scoped>\n",
       "    .dataframe tbody tr th:only-of-type {\n",
       "        vertical-align: middle;\n",
       "    }\n",
       "\n",
       "    .dataframe tbody tr th {\n",
       "        vertical-align: top;\n",
       "    }\n",
       "\n",
       "    .dataframe thead th {\n",
       "        text-align: right;\n",
       "    }\n",
       "</style>\n",
       "<table border=\"1\" class=\"dataframe\">\n",
       "  <thead>\n",
       "    <tr style=\"text-align: right;\">\n",
       "      <th></th>\n",
       "      <th>stars</th>\n",
       "      <th>user_id_new</th>\n",
       "      <th>busi_id_new</th>\n",
       "    </tr>\n",
       "  </thead>\n",
       "  <tbody>\n",
       "    <tr>\n",
       "      <th>4013</th>\n",
       "      <td>1</td>\n",
       "      <td>3914</td>\n",
       "      <td>2301</td>\n",
       "    </tr>\n",
       "    <tr>\n",
       "      <th>2085</th>\n",
       "      <td>4</td>\n",
       "      <td>2053</td>\n",
       "      <td>1433</td>\n",
       "    </tr>\n",
       "    <tr>\n",
       "      <th>4772</th>\n",
       "      <td>1</td>\n",
       "      <td>4631</td>\n",
       "      <td>608</td>\n",
       "    </tr>\n",
       "    <tr>\n",
       "      <th>9109</th>\n",
       "      <td>5</td>\n",
       "      <td>8657</td>\n",
       "      <td>3738</td>\n",
       "    </tr>\n",
       "    <tr>\n",
       "      <th>19298</th>\n",
       "      <td>5</td>\n",
       "      <td>17661</td>\n",
       "      <td>757</td>\n",
       "    </tr>\n",
       "  </tbody>\n",
       "</table>\n",
       "</div>"
      ],
      "text/plain": [
       "       stars  user_id_new  busi_id_new\n",
       "4013       1         3914         2301\n",
       "2085       4         2053         1433\n",
       "4772       1         4631          608\n",
       "9109       5         8657         3738\n",
       "19298      5        17661          757"
      ]
     },
     "execution_count": 15,
     "metadata": {},
     "output_type": "execute_result"
    }
   ],
   "source": [
    "from sklearn.model_selection import train_test_split\n",
    "\n",
    "train, test = train_test_split(\n",
    "    data_df, test_size=0.2, random_state=42)\n",
    "\n",
    "print(\"testing data: \")\n",
    "test.head()"
   ]
  },
  {
   "cell_type": "code",
   "execution_count": 16,
   "metadata": {},
   "outputs": [
    {
     "name": "stdout",
     "output_type": "stream",
     "text": [
      "training data: \n"
     ]
    },
    {
     "data": {
      "text/html": [
       "<div>\n",
       "<style scoped>\n",
       "    .dataframe tbody tr th:only-of-type {\n",
       "        vertical-align: middle;\n",
       "    }\n",
       "\n",
       "    .dataframe tbody tr th {\n",
       "        vertical-align: top;\n",
       "    }\n",
       "\n",
       "    .dataframe thead th {\n",
       "        text-align: right;\n",
       "    }\n",
       "</style>\n",
       "<table border=\"1\" class=\"dataframe\">\n",
       "  <thead>\n",
       "    <tr style=\"text-align: right;\">\n",
       "      <th></th>\n",
       "      <th>stars</th>\n",
       "      <th>user_id_new</th>\n",
       "      <th>busi_id_new</th>\n",
       "    </tr>\n",
       "  </thead>\n",
       "  <tbody>\n",
       "    <tr>\n",
       "      <th>16590</th>\n",
       "      <td>1</td>\n",
       "      <td>15279</td>\n",
       "      <td>5087</td>\n",
       "    </tr>\n",
       "    <tr>\n",
       "      <th>19927</th>\n",
       "      <td>4</td>\n",
       "      <td>18201</td>\n",
       "      <td>2173</td>\n",
       "    </tr>\n",
       "    <tr>\n",
       "      <th>9658</th>\n",
       "      <td>5</td>\n",
       "      <td>9162</td>\n",
       "      <td>222</td>\n",
       "    </tr>\n",
       "    <tr>\n",
       "      <th>8132</th>\n",
       "      <td>4</td>\n",
       "      <td>7760</td>\n",
       "      <td>3</td>\n",
       "    </tr>\n",
       "    <tr>\n",
       "      <th>16024</th>\n",
       "      <td>4</td>\n",
       "      <td>14781</td>\n",
       "      <td>1097</td>\n",
       "    </tr>\n",
       "  </tbody>\n",
       "</table>\n",
       "</div>"
      ],
      "text/plain": [
       "       stars  user_id_new  busi_id_new\n",
       "16590      1        15279         5087\n",
       "19927      4        18201         2173\n",
       "9658       5         9162          222\n",
       "8132       4         7760            3\n",
       "16024      4        14781         1097"
      ]
     },
     "execution_count": 16,
     "metadata": {},
     "output_type": "execute_result"
    }
   ],
   "source": [
    "print(\"training data: \")\n",
    "train.head()"
   ]
  },
  {
   "cell_type": "code",
   "execution_count": 17,
   "metadata": {},
   "outputs": [],
   "source": [
    "from keras.models import Model\n",
    "from keras.layers import Input, Embedding, Flatten, Concatenate, Dense\n",
    "from keras.optimizers import Adam\n",
    "\n",
    "def regressionModel(embedding_size = 64, classification = False):\n",
    "\n",
    "    user_input = Input(shape=[1], name='user_id_new')\n",
    "    embedding_user = Embedding(output_dim=embedding_size, input_dim=max_user_id + 1, input_length=1)(user_input)\n",
    "    user_vec = Flatten()(embedding_user)\n",
    "\n",
    "    business_input = Input(shape=[1], name='busi_id_new')\n",
    "    embedding_busi = Embedding(output_dim=embedding_size, input_dim=max_busi_id + 1, input_length=1)(business_input)\n",
    "    busi_vec = Flatten()(embedding_busi)\n",
    "\n",
    "    concatenated = Concatenate()([user_vec, busi_vec])\n",
    "\n",
    "    #add fully connected layers\n",
    "\n",
    "    layer1 = Dense(128, activation='relu')(concatenated)\n",
    "    layer2 = Dense(32, activation='relu')(layer1)\n",
    "    output = Dense(1)(layer2)\n",
    "\n",
    "    #creating model and compile\n",
    "    model1 = Model(inputs=[user_input, business_input], outputs=output)\n",
    "    model1.compile(optimizer=\"adam\", loss='mse')\n",
    "\n",
    "    return model1"
   ]
  },
  {
   "cell_type": "code",
   "execution_count": 18,
   "metadata": {},
   "outputs": [],
   "source": [
    "Model1 = regressionModel()"
   ]
  },
  {
   "cell_type": "code",
   "execution_count": 19,
   "metadata": {},
   "outputs": [
    {
     "name": "stdout",
     "output_type": "stream",
     "text": [
      "Epoch 1/10\n",
      "250/250 [==============================] - 5s 18ms/step - loss: 3.7749\n",
      "Epoch 2/10\n",
      "250/250 [==============================] - 4s 18ms/step - loss: 0.9693\n",
      "Epoch 3/10\n",
      "250/250 [==============================] - 4s 17ms/step - loss: 0.3754\n",
      "Epoch 4/10\n",
      "250/250 [==============================] - 5s 19ms/step - loss: 0.1680\n",
      "Epoch 5/10\n",
      "250/250 [==============================] - 5s 19ms/step - loss: 0.1163\n",
      "Epoch 6/10\n",
      "250/250 [==============================] - 4s 18ms/step - loss: 0.0900\n",
      "Epoch 7/10\n",
      "250/250 [==============================] - 4s 17ms/step - loss: 0.0773\n",
      "Epoch 8/10\n",
      "250/250 [==============================] - 6s 23ms/step - loss: 0.0688\n",
      "Epoch 9/10\n",
      "250/250 [==============================] - 4s 18ms/step - loss: 0.0631\n",
      "Epoch 10/10\n",
      "250/250 [==============================] - 4s 17ms/step - loss: 0.0597\n"
     ]
    }
   ],
   "source": [
    "history = Model1.fit([train.user_id_new,train.busi_id_new],train.stars,batch_size=64,epochs=10,verbose=1)"
   ]
  },
  {
   "cell_type": "code",
   "execution_count": 22,
   "metadata": {},
   "outputs": [
    {
     "data": {
      "text/plain": [
       "Text(0, 0.5, 'Training Error')"
      ]
     },
     "execution_count": 22,
     "metadata": {},
     "output_type": "execute_result"
    },
    {
     "data": {
      "image/png": "[encoded data removed]",
      "text/plain": [
       "<Figure size 640x480 with 1 Axes>"
      ]
     },
     "metadata": {},
     "output_type": "display_data"
    }
   ],
   "source": [
    "plt.plot(history.history['loss'])\n",
    "plt.xlabel('Epochs')\n",
    "plt.ylabel('Training Error')"
   ]
  },
  {
   "cell_type": "code",
   "execution_count": 23,
   "metadata": {},
   "outputs": [
    {
     "name": "stdout",
     "output_type": "stream",
     "text": [
      "125/125 [==============================] - 0s 1ms/step - loss: 1.8950\n"
     ]
    },
    {
     "data": {
      "text/plain": [
       "1.8949832916259766"
      ]
     },
     "execution_count": 23,
     "metadata": {},
     "output_type": "execute_result"
    }
   ],
   "source": [
    "Model1.evaluate([test.user_id_new, test.busi_id_new], test.stars)"
   ]
  },
  {
   "cell_type": "code",
   "execution_count": 24,
   "metadata": {},
   "outputs": [
    {
     "name": "stdout",
     "output_type": "stream",
     "text": [
      "125/125 [==============================] - 0s 3ms/step - loss: 1.8950\n",
      "Test loss: 1.8949832916259766\n"
     ]
    }
   ],
   "source": [
    "test_loss = Model1.evaluate([test.user_id_new, test.busi_id_new], test.stars)\n",
    "print('Test loss:', test_loss)"
   ]
  },
  {
   "cell_type": "code",
   "execution_count": 25,
   "metadata": {},
   "outputs": [
    {
     "name": "stdout",
     "output_type": "stream",
     "text": [
      "1/1 [==============================] - 0s 125ms/step\n",
      "Prediction: 4.5065, Actual: 1\n",
      "Prediction: 3.2618, Actual: 4\n",
      "Prediction: 2.7186, Actual: 1\n",
      "Prediction: 4.3534, Actual: 5\n",
      "Prediction: 4.3832, Actual: 5\n",
      "Prediction: 3.4287, Actual: 4\n",
      "Prediction: 3.4200, Actual: 5\n",
      "Prediction: 3.5288, Actual: 5\n",
      "Prediction: 3.3647, Actual: 1\n",
      "Prediction: 4.3905, Actual: 5\n"
     ]
    }
   ],
   "source": [
    "predictions = Model1.predict([test.user_id_new.head(10), test.busi_id_new.head(10)])\n",
    "\n",
    "for i in range(10):\n",
    "    print(f\"Prediction: {predictions[i][0]:.4f}, Actual: {test.stars.iloc[i]}\")"
   ]
  },
  {
   "cell_type": "code",
   "execution_count": 27,
   "metadata": {},
   "outputs": [
    {
     "name": "stdout",
     "output_type": "stream",
     "text": [
      "Name of busi_id=2173: The UPS Store\n"
     ]
    }
   ],
   "source": [
    "# weights and shape\n",
    "weights = Model1.get_weights()\n",
    "[w.shape for w in weights]\n",
    "\n",
    "user_embeddings = weights[0]\n",
    "business_embeddings = weights[1]\n",
    "\n",
    "busi_id = 2173\n",
    "print(f\"Name of busi_id={busi_id}: {business_chunk['name'][busi_id]}\")"
   ]
  },
  {
   "cell_type": "code",
   "execution_count": 28,
   "metadata": {},
   "outputs": [
    {
     "name": "stdout",
     "output_type": "stream",
     "text": [
      "Embedding vector for item_id=2173\n",
      "[-0.06540534 -0.02048551  0.0224658   0.01228325  0.03175329 -0.01263599\n",
      "  0.0248579  -0.03101914 -0.00149056 -0.01487393  0.08927875  0.00206502\n",
      " -0.05174847 -0.06764892 -0.04401371  0.02650324  0.06207179 -0.01211227\n",
      " -0.00113803  0.07380989 -0.01654049  0.08911347 -0.02200315 -0.04091039\n",
      " -0.03913264  0.04652144  0.01010148 -0.03280599 -0.01372285 -0.06992868\n",
      "  0.03080054 -0.01593287  0.07307761 -0.0069202   0.01086213  0.01093733\n",
      " -0.08032145 -0.08042031  0.06918138 -0.05419605  0.06118589  0.03372771\n",
      "  0.05321841 -0.00469472 -0.03464585 -0.03312852  0.04961294 -0.05473479\n",
      "  0.01024299 -0.01328982  0.05489531 -0.05657009  0.07056072 -0.02261204\n",
      "  0.00628435 -0.04162757  0.04839443 -0.05151936  0.02269403 -0.05855422\n",
      "  0.05678671  0.0400073  -0.06020952 -0.02138692]\n",
      "shape: (64,)\n"
     ]
    }
   ],
   "source": [
    "print(f\"Embedding vector for item_id={busi_id}\")\n",
    "print(business_embeddings[busi_id])\n",
    "print(\"shape:\", business_embeddings[busi_id].shape)"
   ]
  },
  {
   "cell_type": "code",
   "execution_count": 29,
   "metadata": {},
   "outputs": [
    {
     "name": "stdout",
     "output_type": "stream",
     "text": [
      "[ 0.35637018 -0.4486015   0.27750453 ...  0.10441338 -0.28096458\n",
      "  0.01475579]\n"
     ]
    }
   ],
   "source": [
    "import numpy as np\n",
    "\n",
    "EPSILON = 1e-07 \n",
    "\n",
    "def cosine_similarities(busi_id, business_embeddings):\n",
    "    # Compute similarities between busi_id and all business embeddings\n",
    "    query_vector = business_embeddings[busi_id]\n",
    "    dot_products = np.dot(business_embeddings, query_vector)\n",
    "    \n",
    "    query_vector_norm = np.linalg.norm(query_vector)\n",
    "    all_item_norms = np.linalg.norm(business_embeddings, axis=1)\n",
    "    \n",
    "    norm_products = query_vector_norm * all_item_norms\n",
    "    cosine_similarities = dot_products / (norm_products + EPSILON)\n",
    "    \n",
    "    return cosine_similarities\n",
    "\n",
    "# Assume business_embeddings is a 2D numpy array with one embedding per business\n",
    "similarities = cosine_similarities(2173, business_embeddings)\n",
    "print(similarities)"
   ]
  },
  {
   "cell_type": "code",
   "execution_count": 30,
   "metadata": {},
   "outputs": [
    {
     "name": "stdout",
     "output_type": "stream",
     "text": [
      "Index: 2173, Name: The UPS Store, Similarity: 0.9999992251396179\n",
      "Index: 4668, Name: Just Cookies, Similarity: 0.6958628296852112\n",
      "Index: 4236, Name: Sport Clips Haircuts of Cherry Hill, Similarity: 0.6752784252166748\n",
      "Index: 4593, Name: GIANT Food Store, Similarity: 0.6680518984794617\n",
      "Index: 5378, Name: AMF Clearwater Lanes, Similarity: 0.6672859787940979\n",
      "Index: 1039, Name: Naoki Ramen, Similarity: 0.6636409163475037\n",
      "Index: 3533, Name: Joel's Pizza Palace, Similarity: 0.66208416223526\n",
      "Index: 5286, Name: Namaste Nail  Sanctuary, Similarity: 0.6584775447845459\n",
      "Index: 2950, Name: La Spezia Italian Cafe, Similarity: 0.6544064879417419\n",
      "Index: 4825, Name: Soboba Wood Co, Similarity: 0.6451371908187866\n"
     ]
    }
   ],
   "source": [
    "def most_similar(item_id, item_embeddings, titles, top_n=30):\n",
    "    # Calculate cosine similarities\n",
    "    sims = cosine_similarities(item_id, item_embeddings)\n",
    "    # Sort the similarities and reverse to get largest values first\n",
    "    sorted_indexes = np.argsort(sims)[::-1]\n",
    "    # Get the indices of the top_n most similar items\n",
    "    idxs = sorted_indexes[:top_n]\n",
    "    # Return a list of tuples containing the index, title, and similarity score\n",
    "    return [(idx, titles.iloc[idx], sims[idx]) for idx in idxs]\n",
    "\n",
    "# Reset the index of business_df if necessary\n",
    "business_chunk.reset_index(drop=True, inplace=True)\n",
    "\n",
    "# Call the function\n",
    "similar_items = most_similar(2173, business_embeddings, business_chunk[\"name\"], top_n=10)\n",
    "for idx, name, sim in similar_items:\n",
    "    print(f\"Index: {idx}, Name: {name}, Similarity: {sim}\")"
   ]
  },
  {
   "cell_type": "code",
   "execution_count": 31,
   "metadata": {},
   "outputs": [
    {
     "name": "stderr",
     "output_type": "stream",
     "text": [
      "c:\\Users\\ACER\\AppData\\Local\\Programs\\Python\\Python38\\lib\\site-packages\\sklearn\\cluster\\_kmeans.py:1416: FutureWarning: The default value of `n_init` will change from 10 to 'auto' in 1.4. Set the value of `n_init` explicitly to suppress the warning\n",
      "  super()._check_params_vs_input(X, default_n_init=10)\n",
      "c:\\Users\\ACER\\AppData\\Local\\Programs\\Python\\Python38\\lib\\site-packages\\sklearn\\cluster\\_kmeans.py:1416: FutureWarning: The default value of `n_init` will change from 10 to 'auto' in 1.4. Set the value of `n_init` explicitly to suppress the warning\n",
      "  super()._check_params_vs_input(X, default_n_init=10)\n",
      "c:\\Users\\ACER\\AppData\\Local\\Programs\\Python\\Python38\\lib\\site-packages\\sklearn\\cluster\\_kmeans.py:1416: FutureWarning: The default value of `n_init` will change from 10 to 'auto' in 1.4. Set the value of `n_init` explicitly to suppress the warning\n",
      "  super()._check_params_vs_input(X, default_n_init=10)\n",
      "c:\\Users\\ACER\\AppData\\Local\\Programs\\Python\\Python38\\lib\\site-packages\\sklearn\\cluster\\_kmeans.py:1416: FutureWarning: The default value of `n_init` will change from 10 to 'auto' in 1.4. Set the value of `n_init` explicitly to suppress the warning\n",
      "  super()._check_params_vs_input(X, default_n_init=10)\n",
      "c:\\Users\\ACER\\AppData\\Local\\Programs\\Python\\Python38\\lib\\site-packages\\sklearn\\cluster\\_kmeans.py:1416: FutureWarning: The default value of `n_init` will change from 10 to 'auto' in 1.4. Set the value of `n_init` explicitly to suppress the warning\n",
      "  super()._check_params_vs_input(X, default_n_init=10)\n",
      "c:\\Users\\ACER\\AppData\\Local\\Programs\\Python\\Python38\\lib\\site-packages\\sklearn\\cluster\\_kmeans.py:1416: FutureWarning: The default value of `n_init` will change from 10 to 'auto' in 1.4. Set the value of `n_init` explicitly to suppress the warning\n",
      "  super()._check_params_vs_input(X, default_n_init=10)\n",
      "c:\\Users\\ACER\\AppData\\Local\\Programs\\Python\\Python38\\lib\\site-packages\\sklearn\\cluster\\_kmeans.py:1416: FutureWarning: The default value of `n_init` will change from 10 to 'auto' in 1.4. Set the value of `n_init` explicitly to suppress the warning\n",
      "  super()._check_params_vs_input(X, default_n_init=10)\n",
      "c:\\Users\\ACER\\AppData\\Local\\Programs\\Python\\Python38\\lib\\site-packages\\sklearn\\cluster\\_kmeans.py:1416: FutureWarning: The default value of `n_init` will change from 10 to 'auto' in 1.4. Set the value of `n_init` explicitly to suppress the warning\n",
      "  super()._check_params_vs_input(X, default_n_init=10)\n",
      "c:\\Users\\ACER\\AppData\\Local\\Programs\\Python\\Python38\\lib\\site-packages\\sklearn\\cluster\\_kmeans.py:1416: FutureWarning: The default value of `n_init` will change from 10 to 'auto' in 1.4. Set the value of `n_init` explicitly to suppress the warning\n",
      "  super()._check_params_vs_input(X, default_n_init=10)\n",
      "c:\\Users\\ACER\\AppData\\Local\\Programs\\Python\\Python38\\lib\\site-packages\\sklearn\\cluster\\_kmeans.py:1416: FutureWarning: The default value of `n_init` will change from 10 to 'auto' in 1.4. Set the value of `n_init` explicitly to suppress the warning\n",
      "  super()._check_params_vs_input(X, default_n_init=10)\n"
     ]
    },
    {
     "data": {
      "image/png": "[encoded data removed]",
      "text/plain": [
       "<Figure size 640x480 with 1 Axes>"
      ]
     },
     "metadata": {},
     "output_type": "display_data"
    }
   ],
   "source": [
    "#Using elbow method to find no.of.clusters\n",
    "from sklearn.cluster import KMeans\n",
    "\n",
    "inertia = []\n",
    "for i in range(1, 11):\n",
    "    kmeans = KMeans(n_clusters=i, init='k-means++', random_state=42)\n",
    "    kmeans.fit(data_df)\n",
    "    inertia.append(kmeans.inertia_)\n",
    "\n",
    "# Plot the Elbow graph\n",
    "plt.plot(range(1, 11), inertia, marker='o')\n",
    "plt.title('Elbow Method for Optimal k')\n",
    "plt.xlabel('Number of Clusters')\n",
    "plt.ylabel('Distortion')\n",
    "plt.show()"
   ]
  },
  {
   "cell_type": "code",
   "execution_count": 32,
   "metadata": {},
   "outputs": [
    {
     "name": "stdout",
     "output_type": "stream",
     "text": [
      "Epoch 1/10\n",
      "250/250 [==============================] - 4s 15ms/step - loss: 3.2958\n",
      "Epoch 2/10\n",
      "250/250 [==============================] - 4s 14ms/step - loss: 3.2958\n",
      "Epoch 3/10\n",
      "250/250 [==============================] - 3s 14ms/step - loss: 3.2958\n",
      "Epoch 4/10\n",
      "250/250 [==============================] - 4s 14ms/step - loss: 3.2958\n",
      "Epoch 5/10\n",
      "250/250 [==============================] - 4s 14ms/step - loss: 3.2958\n",
      "Epoch 6/10\n",
      "250/250 [==============================] - 4s 14ms/step - loss: 3.2958\n",
      "Epoch 7/10\n",
      "250/250 [==============================] - 4s 15ms/step - loss: 3.2958\n",
      "Epoch 8/10\n",
      "250/250 [==============================] - 4s 14ms/step - loss: 3.2958\n",
      "Epoch 9/10\n",
      "250/250 [==============================] - 4s 14ms/step - loss: 3.2958\n",
      "Epoch 10/10\n",
      "250/250 [==============================] - 4s 14ms/step - loss: 3.2958\n"
     ]
    }
   ],
   "source": [
    "from keras.models import Model\n",
    "from keras.layers import Input, Embedding, Flatten, Dense, Concatenate\n",
    "from sklearn.cluster import KMeans\n",
    "import numpy as np\n",
    "\n",
    "# Assuming you have user_count, item_count, and embedding_size defined\n",
    "user_input = Input(shape=(1,))\n",
    "busi_input = Input(shape=(1,))\n",
    "\n",
    "embeddingUser = Embedding(max_user_id + 1, 64)(user_input)\n",
    "embeddingBusi = Embedding(max_busi_id + 1, 64)(busi_input)\n",
    "\n",
    "embedding_user = Flatten()(embeddingUser)\n",
    "embedding_busi = Flatten()(embeddingBusi)\n",
    "\n",
    "concatenate = Concatenate()([embedding_user, embedding_busi])\n",
    "\n",
    "# Encoder\n",
    "encoded = Dense(128, activation='relu')(concatenate)\n",
    "encoded = Dense(64, activation='relu')(encoded)\n",
    "embedding = Dense(32, activation='relu')(encoded) \n",
    "\n",
    "# Clustering layer\n",
    "clustering = Dense(3, activation='softmax')(embedding)\n",
    "\n",
    "model = Model(inputs=[user_input, busi_input], outputs=[clustering])\n",
    "\n",
    "model.compile(optimizer='adam', loss='kld')\n",
    "history = model.fit([train.user_id_new,train.busi_id_new], [np.ones_like(train.user_id_new)], epochs=10, batch_size=64)\n"
   ]
  },
  {
   "cell_type": "code",
   "execution_count": 33,
   "metadata": {},
   "outputs": [
    {
     "data": {
      "image/png": "[encoded data removed]",
      "text/plain": [
       "<Figure size 640x480 with 1 Axes>"
      ]
     },
     "metadata": {},
     "output_type": "display_data"
    }
   ],
   "source": [
    "plt.plot(history.history['loss'])\n",
    "plt.title('Training Loss')\n",
    "plt.xlabel('Epoch')\n",
    "plt.ylabel('(KLD) KL Divergence Loss')\n",
    "plt.show()"
   ]
  },
  {
   "cell_type": "code",
   "execution_count": 34,
   "metadata": {},
   "outputs": [
    {
     "name": "stdout",
     "output_type": "stream",
     "text": [
      "125/125 [==============================] - 0s 1ms/step - loss: 3.2958\n"
     ]
    },
    {
     "data": {
      "text/plain": [
       "3.295837163925171"
      ]
     },
     "execution_count": 34,
     "metadata": {},
     "output_type": "execute_result"
    }
   ],
   "source": [
    "model.evaluate([test.user_id_new,test.busi_id_new],test.stars)"
   ]
  },
  {
   "cell_type": "code",
   "execution_count": 39,
   "metadata": {},
   "outputs": [
    {
     "name": "stdout",
     "output_type": "stream",
     "text": [
      "Name of busi_id=2173: The UPS Store\n"
     ]
    }
   ],
   "source": [
    "# weights and shape\n",
    "weights = model.get_weights()\n",
    "[w.shape for w in weights]\n",
    "\n",
    "user_embeddings = weights[0]\n",
    "business_embeddings = weights[1]\n",
    "\n",
    "busi_id = 2173\n",
    "print(f\"Name of busi_id={busi_id}: {business_chunk['name'][busi_id]}\")"
   ]
  },
  {
   "cell_type": "code",
   "execution_count": 40,
   "metadata": {},
   "outputs": [
    {
     "name": "stdout",
     "output_type": "stream",
     "text": [
      "Embedding vector for item_id=2173\n",
      "[ 0.00336915  0.03382088 -0.02225907 -0.04552423  0.0127544   0.00016476\n",
      "  0.02761318  0.01764726 -0.04107882 -0.04394245 -0.03975624  0.02155548\n",
      " -0.0410799   0.02006789  0.03169625  0.04077204 -0.04639386 -0.02088749\n",
      "  0.02801395 -0.02167256  0.03202496 -0.03338622  0.02294649  0.02625067\n",
      "  0.04697647 -0.01474352  0.01839184 -0.0115879  -0.04205221  0.0056429\n",
      " -0.03088009  0.02796885 -0.04870859  0.01336569  0.02533764 -0.04238813\n",
      "  0.01301519 -0.02737478  0.01225328  0.04881129  0.03824056  0.02681243\n",
      "  0.01151335 -0.01012227  0.02327927 -0.01094839  0.01392845  0.04267488\n",
      "  0.00180239  0.00019686  0.01645489  0.0461598   0.03331089 -0.01922143\n",
      "  0.01273824 -0.02074978  0.0290339  -0.03632006  0.03236147 -0.00673416\n",
      " -0.01728022  0.0538203   0.0382725   0.00646701]\n",
      "shape: (64,)\n"
     ]
    }
   ],
   "source": [
    "print(f\"Embedding vector for item_id={busi_id}\")\n",
    "print(business_embeddings[busi_id])\n",
    "print(\"shape:\", business_embeddings[busi_id].shape)"
   ]
  },
  {
   "cell_type": "code",
   "execution_count": 41,
   "metadata": {},
   "outputs": [
    {
     "data": {
      "text/plain": [
       "array([ 0.12071148,  0.10830651, -0.16879639, ..., -0.04562125,\n",
       "        0.16879645,  0.01910457], dtype=float32)"
      ]
     },
     "execution_count": 41,
     "metadata": {},
     "output_type": "execute_result"
    }
   ],
   "source": [
    "EPSILON = 1e-07 \n",
    "def cosine_similarities(busi_id, business_embeddings):\n",
    "    \"\"\"Compute similarities between item_id and all items embeddings\"\"\"\n",
    "    query_vector = business_embeddings[busi_id]\n",
    "    dot_products = business_embeddings @ query_vector\n",
    "\n",
    "    query_vector_norm = np.linalg.norm(query_vector)\n",
    "    all_item_norms = np.linalg.norm(business_embeddings, axis=1)\n",
    "    norm_products = query_vector_norm * all_item_norms\n",
    "    return dot_products / (norm_products + EPSILON)\n",
    "\n",
    "\n",
    "similarities = cosine_similarities(2173, business_embeddings)\n",
    "similarities"
   ]
  },
  {
   "cell_type": "code",
   "execution_count": 42,
   "metadata": {},
   "outputs": [
    {
     "name": "stdout",
     "output_type": "stream",
     "text": [
      "Index: 2173, Name: The UPS Store, Similarity: 0.9999982118606567\n",
      "Index: 1815, Name: The Bourse, Similarity: 0.4652004837989807\n",
      "Index: 4830, Name: Grand View Apartments, Similarity: 0.44344255328178406\n",
      "Index: 2387, Name: Trattoria Marcella, Similarity: 0.4284619092941284\n",
      "Index: 498, Name: Best Western Cedar Park Inn, Similarity: 0.40628981590270996\n",
      "Index: 1228, Name: Meal Prep Reno, Similarity: 0.38528239727020264\n",
      "Index: 5380, Name: Curl Up Or Dye Hair Salon, Similarity: 0.3830169439315796\n",
      "Index: 542, Name: Sherbrooke Liquor Store, Similarity: 0.3805807828903198\n",
      "Index: 1659, Name: Lennys Subs, Similarity: 0.3714796304702759\n",
      "Index: 2062, Name: Pick-n-Pull, Similarity: 0.36835581064224243\n"
     ]
    }
   ],
   "source": [
    "def most_similar(item_id, item_embeddings, titles, top_n=30):\n",
    "    # Calculate cosine similarities\n",
    "    sims = cosine_similarities(item_id, item_embeddings)\n",
    "    # Sort the similarities and reverse to get largest values first\n",
    "    sorted_indexes = np.argsort(sims)[::-1]\n",
    "    # Get the indices of the top_n most similar items\n",
    "    idxs = sorted_indexes[:top_n]\n",
    "    # Return a list of tuples containing the index, title, and similarity score\n",
    "    return [(idx, titles.iloc[idx], sims[idx]) for idx in idxs]\n",
    "\n",
    "# Reset the index of business_df if necessary\n",
    "business_chunk.reset_index(drop=True, inplace=True)\n",
    "\n",
    "# Call the function\n",
    "similar_items = most_similar(2173, business_embeddings, business_chunk[\"name\"], top_n=10)\n",
    "for idx, name, sim in similar_items:\n",
    "    print(f\"Index: {idx}, Name: {name}, Similarity: {sim}\")"
   ]
  },
  {
   "cell_type": "code",
   "execution_count": null,
   "metadata": {},
   "outputs": [],
   "source": []
  }
 ],
 "metadata": {
  "kernelspec": {
   "display_name": "Python 3",
   "language": "python",
   "name": "python3"
  },
  "language_info": {
   "codemirror_mode": {
    "name": "ipython",
    "version": 3
   },
   "file_extension": ".py",
   "mimetype": "text/x-python",
   "name": "python",
   "nbconvert_exporter": "python",
   "pygments_lexer": "ipython3",
   "version": "3.8.10"
  }
 },
 "nbformat": 4,
 "nbformat_minor": 2
}
